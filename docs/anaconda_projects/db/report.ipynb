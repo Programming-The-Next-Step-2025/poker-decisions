{
 "cells": [
  {
   "cell_type": "markdown",
   "metadata": {},
   "source": [
    "# Project Report\n",
    "jupyter nbconvert --to html docs/anaconda_projects/db/report.ipynb"
   ]
  },
  {
   "cell_type": "markdown",
   "metadata": {},
   "source": [
    "# Introduction\n",
    "This project aims to aid users in making preflop poker decisions, based on a number of variables that the user can input. it relies on poker theory imbedded in a solver-based poker dataset, meaning the model is trained on data that consists of preflop scenarios that are labeled with objectively correct decisions. In addition to this, synthetic data has been added to further improve the model accuracy and to help with modeling scenarios frequently encountered in real-life situations. The user can both use the package in a python environment or can opt to use the browser-based Streamlit app, created for easy usage of the package. "
   ]
  },
  {
   "cell_type": "markdown",
   "metadata": {},
   "source": [
    "# Dataset Description\n",
    "Dataset used:\n",
    "- Source: RZ412/PokerBench on Hugging Face\n",
    "- File: preflop_60k_train_set_game_scenario_information.csv\n",
    "- Size: ~60,000 hands\n",
    "\n",
    "Key Columns:\n",
    "- hero_holding – the player’s two cards\n",
    "- prev_line – prior betting actions\n",
    "- correct_decision – solver-recommended action\n",
    "- hero_pos – player’s position at the table"
   ]
  },
  {
   "cell_type": "markdown",
   "metadata": {},
   "source": [
    "# Data Processing\n",
    "- Normalizing hero_holding (e.g., AsKh -> AKo) \n",
    "    + s = spades\n",
    "    + h = hearts\n",
    "    + o = offsuit\n",
    "- Categorized hands (e.g., 99 = pair)\n",
    "- Estimated hand strength (e.g., AA = 1.0, 8Jo = 0.5)\n",
    "- Parsed betting context from prev_line\n",
    "    + Extracted missing moves (e.g., folds were not always mentioned)\n",
    "- Used order of play to determine action before hero's turn\n",
    "- Normalized solver's actions (e.g., 2.5bb = raise, 11.0bb = raise (in prev_line))\n"
   ]
  },
  {
   "cell_type": "markdown",
   "metadata": {},
   "source": [
    "# Class Balancing and Label Encoding\n",
    "Class imbalance handling\n",
    "- Raise: 8000 hands\n",
    "- Call: 8000 hands\n",
    "- Fold: 8000 hands\n",
    "With added synthetic data\n",
    "- Raise: 9000 hands\n",
    "- Call: 8000 hands\n",
    "- Fold: 11000 hands\n",
    "Folds happen much more often than calls or raises, meaning that the higher amount of folds is proportionate to real life decision proportions.\n",
    "\n",
    "Target labels encoding\n",
    "- Raise: 2\n",
    "- Call: 0\n",
    "- Fold: 1"
   ]
  },
  {
   "cell_type": "markdown",
   "metadata": {},
   "source": [
    "# Model Training\n",
    "Model: XGBoostClassifier\n",
    "- Loss: mlogloss\n",
    "- Balanced sample weights\n",
    "- 80/20 Train/Test split\n",
    "- One-hot encoding for categorical variables (hero_pos, hand_category, etc.)"
   ]
  },
  {
   "cell_type": "markdown",
   "metadata": {},
   "source": [
    "## Project Structure\n",
    "\n",
    "```text\n",
    "poker-decisions/\n",
    "├── src/\n",
    "│   ├── app.py                  # Streamlit app UI\n",
    "│   └── HoldemHelper/\n",
    "│       ├── import_dataset.py   # Dataset generation & model training\n",
    "│       ├── recommend.py        # Prediction logic\n",
    "│       ├── hand_strengths.py   # Predefined hand strengths\n",
    "│       └── ...                 # Additional utilities\n",
    "├── model/                      # Trained model artifacts (.pkl)\n",
    "├── src/images/                 # Flowchart and UI screenshots\n",
    "└── README.md\n",
    "```"
   ]
  },
  {
   "cell_type": "markdown",
   "metadata": {},
   "source": [
    "# Installing the package\n",
    "To install the package:\n",
    "```bash\n",
    "git clone https://github.com/Programming-The-Next-Step-2025/poker-decisions.git\n",
    "cd poker-decisions\n",
    "pip install -e .\n",
    "```\n",
    "This manner of installation ensures you are able to make full use of the package's functions, with further instructions below on what arguments can be inputted."
   ]
  },
  {
   "cell_type": "markdown",
   "metadata": {},
   "source": [
    "# Using the package\n",
    "As previously mentioned, the package can be used as a standalone package:\n",
    "```python\n",
    "import HoldemHelper\n",
    "\n",
    "decision, probs = HoldemHelper.recommender.recommend(\n",
    "    hero_holding = \"Th9h\", \n",
    "    hero_pos = \"CO\", \n",
    "    prev_line = \"UTG/call/HJ/2.5bb\", \n",
    "    num_players_still_in = 6\n",
    "    )\n",
    "print(\"Decision:\", decision)\n",
    "print(\"Probabilities:\", probs)\n",
    "```\n",
    "\n",
    "However, the package can be used most easily when using the Streamlit app:\n",
    "```bash\n",
    "pip install --upgrade streamlit\n",
    "# Or with conda:\n",
    "conda update streamlit\n",
    "```\n",
    "```bash\n",
    "python3.12 -m streamlit run src/app.py\n",
    "```"
   ]
  },
  {
   "cell_type": "markdown",
   "metadata": {},
   "source": [
    "# App Design\n",
    "The GUI has several elements:\n",
    "Introduction: The text atop of the page introduces the app and provides some additional information. For one, it points out to the user that every box has a help-icon, which allows the user to hover over and read a description of how the respective box is used. Additionally, it provides the user with al ink to a page describing the rules of Texas Hold'em poker.\n",
    "(1) Select your cards\n",
    "+ The 'Card 1 rank' and 'Card 2 rank' drop-down menu allow you to input your card ranks, meaning that you choose 2, 3, 4, 5, 6, 7, 8, 9, T, J, Q, K, or A, corresponding to the cards the hero (you) hold in the scenario.\n",
    "+ The 'Card 1 suit' and 'Card 2 suit' multiple-choice menu allow you to select the suit corresponding to the respective card, being spades, hearts, diamonds, or clubs.\n",
    "+ The 'Hero Position' allows you to input the position of the hero (you) in the scenario, where the choices are between UTG, HJ, CO, BTN, SB, and BB. Below this box is an expandable image depicting the different positions on the poker table, to help the user figure out the correct position, if needed.\n",
    "(2) Previous actions\n",
    "+ The 'Number of Previous Actions' box allows the user to select the amount of actions that happened before the decision that they want a recommendation for. The maximum number of actions are 15. If a players action is not included in this section, the model assumes this player folded.\n",
    "+ After selecting the amount of players actions, the same number of rows fold open, where the user can input the position and action for the respective player. The choice of positions is the same as the choice of the hero positions. Then an action (i.e., call, fold, or raise) can be selected for every player. If raise is chosen, an additional text-input box opens up where the user can input the amount raised by the respective player upto two decimals. \n",
    "All the user needs to do after this is press the 'Get Recommendation' button and it outputs the 'Recommended Action', being fold, call, or raise. It also outputs a graph showing the different 'Prediction Probabilities'.\n",
    "\n",
    "Below are several images that depict:\n",
    "(1) The steps the user should take to use the package (properly)\n",
    "(2) How to launch the Streamlit app\n",
    "(3) Example inputs for the Streamlit app\n",
    "(4) The subsequent output"
   ]
  },
  {
   "cell_type": "markdown",
   "metadata": {},
   "source": [
    "## Flowchart of User Interaction\n"
   ]
  },
  {
   "cell_type": "code",
   "execution_count": null,
   "metadata": {},
   "outputs": [],
   "source": [
    "from IPython.display import Image, display\n",
    "display(Image(filename=\"src/images/flowchart_image.png\"))"
   ]
  },
  {
   "cell_type": "markdown",
   "metadata": {},
   "source": [
    "## Example Usage"
   ]
  },
  {
   "cell_type": "markdown",
   "metadata": {},
   "source": [
    "Launching the App"
   ]
  },
  {
   "cell_type": "code",
   "execution_count": null,
   "metadata": {},
   "outputs": [],
   "source": [
    "from IPython.display import Image, display\n",
    "display(Image(filename=\"src/images/streamlit_launch.png\"))"
   ]
  },
  {
   "cell_type": "markdown",
   "metadata": {},
   "source": [
    "Input Interface"
   ]
  },
  {
   "cell_type": "code",
   "execution_count": null,
   "metadata": {},
   "outputs": [],
   "source": [
    "from IPython.display import Image, display\n",
    "display(Image(filename=\"src/images/interface_input.png\"))"
   ]
  },
  {
   "cell_type": "markdown",
   "metadata": {},
   "source": [
    "Model Recommendation Output"
   ]
  },
  {
   "cell_type": "code",
   "execution_count": null,
   "metadata": {},
   "outputs": [],
   "source": [
    "from IPython.display import Image, display\n",
    "display(Image(filename=\"src/images/interface_output.png\"))"
   ]
  },
  {
   "cell_type": "markdown",
   "metadata": {},
   "source": [
    "# Inspiration\n",
    "This package was inspired by my interest in poker strategy. The world of poker has seen a paradigm shift in the past four decades, going from a backroom intuitive game to a statistics-based, world wide game that everybody knows of. The game has evolved into one where the most knowledgable and insightful players see the most success. This is due to the increasing knowledge on statistics and the ability to share knowledge of these insights. Hundreds, if not thousands, of tables with correct decisions in different scenario's, with different raise sizes, incorporating variability of play and perfect strategy have become the standard in learning how to play proper poker. Although the current package does not come close to incorporating all that knowledge into one classifier, it incorporates a lot of the preflop knowledge for (common) 6-player games."
   ]
  },
  {
   "cell_type": "markdown",
   "metadata": {},
   "source": [
    "# Disclaimer\n",
    "We strongly discourage using this app to aid in poker games where the use of any help is not allowed, or where disclosure of the usage is unclear. Additionally, the model this app relies on is imperfect, meaning that in some scenario's the app may not give the correct advice for the inputted scenario."
   ]
  },
  {
   "cell_type": "markdown",
   "metadata": {},
   "source": []
  },
  {
   "cell_type": "markdown",
   "metadata": {},
   "source": []
  },
  {
   "cell_type": "markdown",
   "metadata": {},
   "source": []
  },
  {
   "cell_type": "markdown",
   "metadata": {},
   "source": []
  }
 ],
 "metadata": {
  "kernelspec": {
   "display_name": "base",
   "language": "python",
   "name": "python3"
  },
  "language_info": {
   "name": "python",
   "version": "3.12.7"
  }
 },
 "nbformat": 4,
 "nbformat_minor": 2
}
