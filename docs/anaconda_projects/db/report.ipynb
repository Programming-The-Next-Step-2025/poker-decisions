{
 "cells": [
  {
   "cell_type": "markdown",
   "metadata": {},
   "source": [
    "# Week 3 Project Report"
   ]
  },
  {
   "cell_type": "markdown",
   "metadata": {},
   "source": [
    "# Introduction\n",
    "This project aims to model optimal preflop decisions based on various variables that can be specified by the user, in order to get fitting advice on what decision to make. "
   ]
  },
  {
   "cell_type": "markdown",
   "metadata": {},
   "source": [
    "# Dataset Description\n",
    "Dataset used:\n",
    "- Source: RZ412/PokerBench on Hugging Face\n",
    "- File: preflop_60k_train_set_game_scenario_information.csv\n",
    "- Size: ~60,000 hands\n",
    "\n",
    "Key Columns:\n",
    "- hero_holding – the player’s two cards\n",
    "- prev_line – prior betting actions\n",
    "- correct_decision – solver-recommended action\n",
    "- hero_pos – player’s position at the table"
   ]
  },
  {
   "cell_type": "markdown",
   "metadata": {},
   "source": [
    "# Data Processing\n",
    "- Normalizing hero_holding (e.g., AsKh -> AKo) \n",
    "    + s = spades\n",
    "    + h = hearts\n",
    "    + o = offsuit\n",
    "- Categorized hands (e.g., 99 = pair)\n",
    "- Estimated hand strength (e.g., AA = 1.0, 8Jo = 0.5)\n",
    "- Parsed betting context from prev_line\n",
    "    + Extracted missing moves (e.g., folds were not always mentioned)\n",
    "- Used order of play to determine action before hero's turn\n",
    "- Normalized solver's actions (e.g., 2.5bb = raise, 11.0bb = raise (in prev_line))\n"
   ]
  },
  {
   "cell_type": "markdown",
   "metadata": {},
   "source": [
    "# Class Balancing and Label Encoding\n",
    "Class imbalance handling\n",
    "- Raise: 8000 hands\n",
    "- Call: 8000 hands\n",
    "- Fold: 8000 hands\n",
    "\n",
    "Target lables encoding\n",
    "- Raise: 2\n",
    "- Call: 0\n",
    "- Fold: 1"
   ]
  },
  {
   "cell_type": "markdown",
   "metadata": {},
   "source": [
    "# Model Training\n",
    "Model: XGBoostClassifier\n",
    "- Loss: mlogloss\n",
    "- Balanced sample weights\n",
    "- 80/20 Train/Test split\n",
    "- One-hot encoding for categorical variables (hero_pos, hand_category, etc.)"
   ]
  }
 ],
 "metadata": {
  "language_info": {
   "name": "python"
  }
 },
 "nbformat": 4,
 "nbformat_minor": 2
}
